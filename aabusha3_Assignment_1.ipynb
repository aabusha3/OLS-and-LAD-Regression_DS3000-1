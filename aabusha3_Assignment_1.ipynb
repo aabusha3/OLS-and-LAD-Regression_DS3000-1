{
 "cells": [
  {
   "cell_type": "markdown",
   "metadata": {},
   "source": [
    "# Grade: 100 points\n",
    "\n",
    "# Assignment 01: Linear Regression\n",
    "\n",
    "In this assignment, you're going to write your own methods to fit a linear model.  \n",
    "\n",
    "## Instructions\n",
    "\n",
    "#### Follow These Steps before submitting your assignment \n",
    "1. Complete the notebook.\n",
    "\n",
    "2. Make sure all plots have axis labels.\n",
    "\n",
    "3. Once the notebook is complete, `Restart` your kernel by clicking 'Kernel' > 'Restart & Run All'.\n",
    "\n",
    "4. Fix any errors until your notebook runs without any problems.\n",
    "\n",
    "5. Submit your completed notebook to OWL by the deadline.\n",
    "\n",
    "\n",
    "This notebook contains the questions for Assignment 1. Make sure to complete this assignment individually and appropriately reference all external code and documentation used. "
   ]
  },
  {
   "cell_type": "markdown",
   "metadata": {},
   "source": [
    "## Data set \n",
    "\n",
    "For this assignment, we will examine some data representing possums. The data frame contains 46 observations on the following 6 variables:\n",
    "\n",
    "* sex: Sex, either m (male) or f (female).\n",
    "* age: Age in years.\n",
    "* headL: Head length, in mm.\n",
    "* skullW: Skull width, in mm.\n",
    "* totalL: Total length, in cm.\n",
    "* tailL: Tail length, in cm."
   ]
  },
  {
   "cell_type": "markdown",
   "metadata": {},
   "source": [
    "## Preliminaries"
   ]
  },
  {
   "cell_type": "code",
   "execution_count": 1,
   "metadata": {},
   "outputs": [],
   "source": [
    "# Import all the necessary packages: \n",
    "import matplotlib.pyplot as plt \n",
    "import numpy as np\n",
    "import pandas as pd\n",
    "import scipy.stats as ss \n",
    "import scipy.optimize as so\n",
    "import statsmodels.api as sm\n",
    "import statsmodels.formula.api as smf\n",
    "\n",
    "%matplotlib inline"
   ]
  },
  {
   "cell_type": "markdown",
   "metadata": {},
   "source": [
    "## Part 1 - Simple Linear Regression\n",
    "\n",
    "### Question 1.1  (10 points)\n",
    "\n",
    "\n",
    "Read in the `possum.csv` file as a `pandas.DataFrame`.  Investigate the relationship between the possum's age and it's tail length by plotting a scatter plot of the `age` and `tailL` columns. You might want to add an `alpha` in case some data are overlapping. "
   ]
  },
  {
   "cell_type": "code",
   "execution_count": 2,
   "metadata": {},
   "outputs": [
    {
     "data": {
      "image/png": "[encoded data removed]",
      "text/plain": [
       "<Figure size 640x480 with 1 Axes>"
      ]
     },
     "metadata": {},
     "output_type": "display_data"
    }
   ],
   "source": [
    "# Read in the data with pandas\n",
    "possum_data = pd.read_csv('./possum.csv')\n",
    "\n",
    "# Make the scatter plot (don't forget the axis labels)\n",
    "possum_data.plot(x='age',y='tailL',kind='scatter',alpha=0.67)\n",
    "plt.show()"
   ]
  },
  {
   "cell_type": "markdown",
   "metadata": {},
   "source": [
    "### Question 1.2: (5 point)\n",
    "\n",
    "Recall that the linear model, we obtain predictions by computing \n",
    "\n",
    "$$ \\hat{\\mathbf{y}} = \\mathbf{X} \\beta $$\n",
    "\n",
    "Here, $\\mathbf{X}$ is a design matrix which includes a column of ones, $\\beta$ are coefficients, and $\\mathbf{y}$ are outcomes.  \n",
    "1. Write a function `linearModelPredict` to compute linear model predictions given data and a coefficient vector.  The function should take as it's arguments a 1d-array of coefficients `b` and the design matrix `X` as a 2d-array and return linear model predictions `yp`.\n",
    "\n",
    "2. Test the function by setting the following values and call your function with these values!\n",
    "\n",
    "```\n",
    "X = np.array([[1,0],[1,-1],[1,2]])\n",
    "b = np.array([0.1,0.3])\n",
    "```\n",
    " \n",
    "\n",
    "3. Report $\\hat{\\mathbf{y}}$. \n",
    "What is the dimensionality of the numpy-array that you get back? \n",
    "1d-array\n",
    "\n",
    "Hint:  Read the documentation for `np.dot` or the `@` operator in `numpy`."
   ]
  },
  {
   "cell_type": "code",
   "execution_count": 3,
   "metadata": {},
   "outputs": [
    {
     "data": {
      "text/plain": [
       "array([ 0.1, -0.2,  0.7])"
      ]
     },
     "execution_count": 3,
     "metadata": {},
     "output_type": "execute_result"
    }
   ],
   "source": [
    "X = np.array([[1,0],[1,-1],[1,2]])\n",
    "b = np.array([0.1,0.3])\n",
    "\n",
    "def linearModelPredict(b,X):\n",
    "    yp = X@b\n",
    "    return yp\n",
    "\n",
    "# Always important: Test the new function you have written! \n",
    "yp = linearModelPredict(b,X)\n",
    "yp\n",
    "# By the way: What happens when b is a 2d-array? \n",
    "# matrix multiplication occurs resulting in a 2d-array output"
   ]
  },
  {
   "cell_type": "markdown",
   "metadata": {},
   "source": [
    "### Question 1.3 (15 points)\n",
    "\n",
    "1. Write a function `linearModelLossRSS` which computes and returns the loss function for an OLS model parameterized by $\\beta$, as well as the gradient of the loss.  The function should take as its first argument a 1d-array `beta` of coefficients for the linear model, as its second argument the design matrix `X` as a 2d-array, and as its third argument a 1d-array `y` of observed outcomes.\n",
    "\n",
    "2. Test the function with the values \n",
    "\n",
    "```\n",
    "X = np.array([[1,0],[1,-1],[1,2]])\n",
    "b = np.array([0.1,0.3])\n",
    "y = np.array([0,0.4,2]) \n",
    "```\n",
    "\n",
    "3. Report `RSS` and `gradient`. \n"
   ]
  },
  {
   "cell_type": "code",
   "execution_count": 4,
   "metadata": {},
   "outputs": [
    {
     "data": {
      "text/plain": [
       "(2.06, [-3.6, -7.6])"
      ]
     },
     "execution_count": 4,
     "metadata": {},
     "output_type": "execute_result"
    }
   ],
   "source": [
    "X = np.array([[1,0],[1,-1],[1,2]])\n",
    "b = np.array([0.1,0.3])\n",
    "y = np.array([0,0.4,2])\n",
    "\n",
    "def linearModelLossRSS(b,X,y):\n",
    "    yp = linearModelPredict(b,X)\n",
    "    res = y-yp\n",
    "    RSS = sum(res**2)\n",
    "    gradient = [-2*sum(res), -2*sum(res@X)]\n",
    "    return (RSS, gradient)\n",
    "\n",
    "RSS, gradient = linearModelLossRSS(b,X,y)\n",
    "RSS, gradient"
   ]
  },
  {
   "cell_type": "markdown",
   "metadata": {},
   "source": [
    "4. To minimize the cost do you need increase or decrease the value of the parameters? \n",
    "\n",
    "(Write the answer in the cell below)"
   ]
  },
  {
   "cell_type": "markdown",
   "metadata": {},
   "source": [
    "Written answer: increase"
   ]
  },
  {
   "cell_type": "markdown",
   "metadata": {},
   "source": [
    "### Question 1.4  (15 points) \n",
    "\n",
    "Now that you've implemented a loss function in Question 1.3, it is now time to minimize it!\n",
    "\n",
    "1. Write a function `linearModelFit` to fit a linear model.  The function should take as its first argument the design matrix `X` as a 2d-array, as its second argument a 1d-array `y` of outcomes, and as its third argument a function  `lossfcn` which returns as a tuple the value of the loss, as well as the gradient of the loss. As a result, it should return the estimated betas and the R2. \n",
    "\n",
    "2. Test the function with these values: \n",
    "```\n",
    "X = np.array([[1,0],[1,-1],[1,2]])\n",
    "b = np.array([0.1,0.3])\n",
    "y = np.array([0,0.4,2]) \n",
    "```\n",
    "\n",
    "3. Report `best parameters` (best beta's) and `the R2`value.\n"
   ]
  },
  {
   "cell_type": "code",
   "execution_count": 5,
   "metadata": {},
   "outputs": [
    {
     "data": {
      "text/plain": [
       "(array([0.6, 0.6]), 0.75)"
      ]
     },
     "execution_count": 5,
     "metadata": {},
     "output_type": "execute_result"
    }
   ],
   "source": [
    "X = np.array([[1,0],[1,-1],[1,2]])\n",
    "b = np.array([0.1,0.3])\n",
    "y = np.array([0,0.4,2])\n",
    "\n",
    "def linearModelFit(X,y,lossfcn=linearModelLossRSS):\n",
    "    nrows,ncols = X.shape\n",
    "    betas=np.zeros((ncols,))   \n",
    "    RES = so.minimize(lossfcn,betas,args=(X,y),jac=True)\n",
    "    best_parameters = RES.x\n",
    "    TSS = sum((y-np.mean(y))**2)\n",
    "    RSS, grad = linearModelLossRSS(best_parameters,X,y)\n",
    "    R2 = 1-(RSS/TSS)\n",
    "    return (best_parameters, R2)\n",
    "\n",
    "best_parameters, R2 = linearModelFit(X,y)\n",
    "best_parameters, R2"
   ]
  },
  {
   "cell_type": "markdown",
   "metadata": {},
   "source": [
    "### Question 1.5 (15 points)\n",
    "\n",
    "1. Use the above functions to fit your model to the possum data. \n",
    "2. Then use your model and the fitted parameters to make predictions along a grid of equally spaced possum ages.  \n",
    "\n",
    "3. Plot the data and add a line for the predicted values. You can get these by generating a new X-matrix with equally space ages (using for example np.linspace). \n",
    "4. Also report the `R2` value for the fit. \n"
   ]
  },
  {
   "cell_type": "code",
   "execution_count": 6,
   "metadata": {},
   "outputs": [
    {
     "data": {
      "text/plain": [
       "0.22286587947604108"
      ]
     },
     "execution_count": 6,
     "metadata": {},
     "output_type": "execute_result"
    },
    {
     "data": {
      "image/png": "[encoded data removed]",
      "text/plain": [
       "<Figure size 768x576 with 1 Axes>"
      ]
     },
     "metadata": {},
     "output_type": "display_data"
    }
   ],
   "source": [
    "# Make the design matrix using np.c_ \n",
    "# y = ...\n",
    "# X =  np.c_[...]\n",
    "age = possum_data.age.values\n",
    "X = np.c_[np.ones(age.size), age]\n",
    "y = possum_data.tailL.values\n",
    "# Call you fitting function \n",
    "best_parameters, R2 = linearModelFit(X,y)\n",
    "# Create the scatter plot (see question 1.1)\n",
    "fig, ax = plt.subplots(dpi = 120)\n",
    "possum_data.plot(x='age',y='tailL',kind='scatter',alpha=0.67,ax = ax)\n",
    "# Create a new X matrix with equally space data \n",
    "age_grid = np.arange(age.min(), age.max())\n",
    "Xn = np.c_[np.ones(age_grid.size), age_grid]\n",
    "yn = Xn@best_parameters\n",
    "# Add the line to the graph \n",
    "ax.plot(age_grid, yn, color = 'red')\n",
    "# Report R2 \n",
    "R2"
   ]
  },
  {
   "cell_type": "markdown",
   "metadata": {},
   "source": [
    "## Part 2 - LAD Regression\n",
    "\n",
    "### Question 2.1 (15 points)\n",
    "\n",
    "In the previous section, we worked with the squared loss.  Now, we'll implement a linear model with `least absolute deviation` loss.\n",
    "\n",
    "1. Write a function `linearModelLossLAD` which computes the least absolute deviation loss function for a linear model  parameterized by $\\beta$, as well as the gradient of the loss.  The function should take as its first argument a 1d-array `beta` of coefficients for the linear model, as its second argument the design matrix `X` as a 2d-array, and as its third argument a 1d-array `y` of observed outcomes.\n",
    "\n",
    "2. Test the function with these values \n",
    "\n",
    "```\n",
    "X = np.array([[1,0],[1,-1],[1,2]])\n",
    "b = np.array([0.1,0.3])\n",
    "y = np.array([0,0.4,2]) \n",
    "```\n",
    "\n",
    "3. Report `RSS` and `gradient`. "
   ]
  },
  {
   "cell_type": "code",
   "execution_count": 7,
   "metadata": {},
   "outputs": [
    {
     "data": {
      "text/plain": [
       "(2.0, [-1.0, -2.0])"
      ]
     },
     "execution_count": 7,
     "metadata": {},
     "output_type": "execute_result"
    }
   ],
   "source": [
    "X = np.array([[1,0],[1,-1],[1,2]])\n",
    "b = np.array([0.1,0.3])\n",
    "y = np.array([0,0.4,2])\n",
    "\n",
    "def linearModelLossLAD(b,X,y):\n",
    "    yp = linearModelPredict(b,X)\n",
    "    res = y-yp\n",
    "    sres = np.sign(res); \n",
    "    RSS = sum(abs(res))\n",
    "    gradient =  [-sum(sres), -sum(sres@X)]\n",
    "    return (RSS, gradient)\n",
    " \n",
    "RSS, gradient = linearModelLossLAD(b,X,y)\n",
    "RSS, gradient"
   ]
  },
  {
   "cell_type": "markdown",
   "metadata": {},
   "source": [
    "### Question 2.2 (10 points)\n",
    "\n",
    "\n",
    "1. Use the above functions to fit your LAD model. \n",
    "2. Use your model to make predictions along a grid of equally spaced possum ages.  \n",
    "3. Once fit, add the fitted line to the scatter plot as in Question 1.5.  \n",
    "4. Also report the `R2` value. \n",
    "\n",
    "\n",
    "*Note*: If you recieve an error from the optimizer, it may be because the loss function for the LAD model is not differentiable at its minimum.  This will lead to some gradient based optimiers to fail to converge.  If this happens to you then pass `method=\"Powell\"` to `scipy.optimize.minimize`.\n",
    "\n"
   ]
  },
  {
   "cell_type": "code",
   "execution_count": 8,
   "metadata": {},
   "outputs": [
    {
     "data": {
      "text/plain": [
       "0.13059970565304602"
      ]
     },
     "execution_count": 8,
     "metadata": {},
     "output_type": "execute_result"
    },
    {
     "data": {
      "image/png": "[encoded data removed]",
      "text/plain": [
       "<Figure size 768x576 with 1 Axes>"
      ]
     },
     "metadata": {},
     "output_type": "display_data"
    }
   ],
   "source": [
    "age = possum_data.age.values\n",
    "X = np.c_[np.ones(age.size), age]\n",
    "y = possum_data.tailL.values\n",
    "best_betas, R2 = linearModelFit(X,y,lossfcn=linearModelLossLAD)\n",
    "\n",
    "fig, ax = plt.subplots(dpi = 120)\n",
    "possum_data.plot(x='age',y='tailL',kind='scatter',alpha=0.67,ax = ax)\n",
    "\n",
    "age_grid = np.arange(age.min(), age.max())\n",
    "Xn = np.c_[np.ones(age_grid.size), age_grid]\n",
    "yn = Xn@best_betas\n",
    "\n",
    "ax.plot(age_grid, yn, color = 'red')\n",
    "R2"
   ]
  },
  {
   "cell_type": "markdown",
   "metadata": {},
   "source": [
    "5. What is the difference in the fit obtained with an L1 as compared to the L2 cost function? Which one has a higher R2 value? Why?  \n",
    "\n",
    "(Write the answer in the cell below)\n"
   ]
  },
  {
   "cell_type": "markdown",
   "metadata": {},
   "source": [
    "Written answer: L1 has a lower slope and smaller R2 than L2, becuase L1 loss function is more robust to outliers since the residual is not squared in L1"
   ]
  },
  {
   "cell_type": "markdown",
   "metadata": {},
   "source": [
    "### Question 2.3 (15 points)\n",
    "\n",
    "1. Fit both an `OLS model` and a `LAD model` with `statsmodels`.  \n"
   ]
  },
  {
   "cell_type": "code",
   "execution_count": 9,
   "metadata": {},
   "outputs": [
    {
     "data": {
      "text/plain": [
       "<matplotlib.legend.Legend at 0x2313beced10>"
      ]
     },
     "execution_count": 9,
     "metadata": {},
     "output_type": "execute_result"
    },
    {
     "data": {
      "image/png": "[encoded data removed]",
      "text/plain": [
       "<Figure size 768x576 with 1 Axes>"
      ]
     },
     "metadata": {},
     "output_type": "display_data"
    }
   ],
   "source": [
    "ols_fit = smf.ols('tailL~age', data = possum_data).fit()\n",
    "lad_fit = smf.quantreg('tailL~age', data = possum_data).fit(q = 0.5)\n",
    "fig, ax = plt.subplots(dpi = 120)\n",
    "possum_data.plot(x='age',y='tailL',kind='scatter',alpha=0.67,ax = ax)\n",
    "\n",
    "age = np.linspace(0,9,101)\n",
    "y_ols = ols_fit.predict(exog = dict(age = age)).values\n",
    "y_lad = lad_fit.predict(exog = dict(age = age)).values\n",
    "\n",
    "ax.plot(age, y_ols, color = 'blue', label = 'OLS')\n",
    "ax.plot(age, y_lad, color = 'red', label = 'LAD')\n",
    "ax.legend()"
   ]
  },
  {
   "cell_type": "markdown",
   "metadata": {},
   "source": [
    "In no more than two sentences, comment on the rsquared values from `statsmodels` and the rsquared values from your models. Are they similar?\n",
    "\n",
    "(Write the answer in the cell below)"
   ]
  },
  {
   "cell_type": "markdown",
   "metadata": {},
   "source": [
    "Written answer: The rsquared values are similar"
   ]
  },
  {
   "cell_type": "code",
   "execution_count": null,
   "metadata": {},
   "outputs": [],
   "source": []
  }
 ],
 "metadata": {
  "kernelspec": {
   "display_name": "Python 3 (ipykernel)",
   "language": "python",
   "name": "python3"
  },
  "language_info": {
   "codemirror_mode": {
    "name": "ipython",
    "version": 3
   },
   "file_extension": ".py",
   "mimetype": "text/x-python",
   "name": "python",
   "nbconvert_exporter": "python",
   "pygments_lexer": "ipython3",
   "version": "3.11.4"
  }
 },
 "nbformat": 4,
 "nbformat_minor": 4
}
